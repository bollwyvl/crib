{
 "cells": [
  {
   "cell_type": "code",
   "execution_count": 1,
   "metadata": {
    "collapsed": false
   },
   "outputs": [
    {
     "name": "stdout",
     "output_type": "stream",
     "text": [
      "\n",
      "\n",
      "Unable to load euclid library. Skipping euclid-based tests with exception: \n",
      "invalid syntax (euclid.py, line 137)\n",
      "\n"
     ]
    },
    {
     "name": "stderr",
     "output_type": "stream",
     "text": [
      ":0: FutureWarning: IPython widgets are experimental and may change in the future.\n"
     ]
    }
   ],
   "source": [
    "from ipytangle import tangle\n",
    "\n",
    "from solid import (\n",
    "    union,\n",
    "    translate,\n",
    "    cube,\n",
    "    difference,\n",
    "    cylinder,\n",
    "    scad_render_to_file,\n",
    "    use,\n",
    "    include,\n",
    "    color,\n",
    ")\n",
    "from solid.utils import (\n",
    "    right,\n",
    "    bom_part,\n",
    "    bill_of_materials,\n",
    ")"
   ]
  },
  {
   "cell_type": "code",
   "execution_count": 2,
   "metadata": {
    "collapsed": false
   },
   "outputs": [],
   "source": [
    "import math\n",
    "\n",
    "from IPython.html.widgets import (\n",
    "    FloatSlider,\n",
    "    DOMWidget,\n",
    ")\n",
    "from IPython.utils.traitlets import (\n",
    "    link,\n",
    "    Float,\n",
    "    Unicode,\n",
    ")  \n",
    "from IPython.display import display"
   ]
  },
  {
   "cell_type": "code",
   "execution_count": 3,
   "metadata": {
    "collapsed": true
   },
   "outputs": [],
   "source": [
    "def _mattress_slat_gap(mattress_length, bed_length, mattress_width, bed_width):\n",
    "    return max(\n",
    "        bed_length - mattress_length,\n",
    "        bed_width - mattress_width\n",
    "    )"
   ]
  },
  {
   "cell_type": "code",
   "execution_count": 4,
   "metadata": {
    "collapsed": false
   },
   "outputs": [],
   "source": [
    "crib = tangle(\n",
    "    mattress_vendor=[\"Ikea\"],\n",
    "    mattress_model=[\"VYSSA SLÖA\"],\n",
    "    mattress_width=27.5,\n",
    "    mattress_length=52.0,\n",
    "    mattress_depth=3.125,\n",
    "    mattress_cost=49.99,\n",
    "\n",
    "    beam_vendor=[\"Grid Beam Solutions\"],\n",
    "    beam_width=1.5,\n",
    "    beam_lf_price=3,\n",
    "    \n",
    "    bed_width=(27.5,\n",
    "        lambda mattress_width, beam_width: math.ceil(mattress_width / beam_width) * beam_width\n",
    "    ),\n",
    "\n",
    "    bed_length=(52.0,\n",
    "        lambda mattress_length, beam_width: math.ceil(mattress_length / beam_width) * beam_width \n",
    "    ),\n",
    "    \n",
    "    max_mattress_slat_gap=1.0,\n",
    "    mattress_slat_gap=(1.0, _mattress_slat_gap)\n",
    ")\n",
    "crib"
   ]
  },
  {
   "cell_type": "code",
   "execution_count": null,
   "metadata": {
    "collapsed": true
   },
   "outputs": [],
   "source": []
  },
  {
   "cell_type": "code",
   "execution_count": 5,
   "metadata": {
    "collapsed": false
   },
   "outputs": [],
   "source": [
    "use(\"MCAD/gridbeam.scad\")\n",
    "use(\"MCAD/units.scad\")\n",
    "\n",
    "class Crib(DOMWidget):\n",
    "    filename = Unicode(\"crib-8-post-gen.scad\")\n",
    "    \n",
    "    # above the mattress at its lowest\n",
    "    mattress_to_top = Float(26)\n",
    "    # space between slats\n",
    "    max_slat_slat_gap = Float(2 + (3.0/8.0))\n",
    "    # space between slats\n",
    "    max_slat_mattress_gap = Float(1)\n",
    "    \n",
    "    # some ikea model\n",
    "    mattress_width = Float(27.5)\n",
    "    mattress_length = Float(52)\n",
    "    mattress_depth = Float(3.125)\n",
    "    \n",
    "    beam_width = Float(1.5)\n",
    "    \n",
    "    beam_color = Unicode(\"BurlyWood\")\n",
    "    \n",
    "    def __init__(self, *args, **kwargs):\n",
    "        super(Crib, self).__init__(*args, **kwargs)\n",
    "        self.on_trait_change(self._on_change)\n",
    "    \n",
    "    def _on_change(self, name, old, new):\n",
    "        scad_render_to_file(\n",
    "            self.scad(),\n",
    "            self.filename\n",
    "        )\n",
    "    \n",
    "    def scad(self):\n",
    "        return union()(\n",
    "            self.gridbeam(20)\n",
    "        )\n",
    "    \n",
    "    def legs(self):\n",
    "        return union()(\n",
    "            \n",
    "        )\n",
    "    \n",
    "    @bom_part(\"Grid Beam\")\n",
    "    def gridbeam(self, length=1):\n",
    "        return zBeam(length)\n",
    "\n",
    "crib = Crib()\n",
    "crib.mattress_width = 28"
   ]
  },
  {
   "cell_type": "markdown",
   "metadata": {},
   "source": [
    "# Parametric Grid Beam Crib"
   ]
  },
  {
   "cell_type": "markdown",
   "metadata": {},
   "source": [
    "[Grid Beam](http://gridbeam.biz/) is a modular approach for building structures. It's made of sticks and bolts. Building a Grid Beam crib for your little person is a life-long gift: she can have personalized furniture, and toys made from the same pieces."
   ]
  },
  {
   "cell_type": "markdown",
   "metadata": {},
   "source": [
    "## Mattress\n",
    "\n",
    "The US Consumer Product Safety Commission (CPSC) [says](http://www.cpsc.gov/en/Business--Manufacturing/Business-Education/Business-Guidance/Full-Size-Baby-Cribs/):\n",
    "> _a mattress used in a full-size crib must be at least 27 1/4 inches x 51 1/4 inches, with a thickness not exceeding 6 inches_"
   ]
  },
  {
   "cell_type": "markdown",
   "metadata": {},
   "source": [
    "For example, [`mattress_vendor`](#:mattress_vendor)'s [`mattress_model`](#:mattress_model) is\n",
    "[`mattress_width` in](#:mattress_width) $\\times$ \n",
    "[`mattress_length` in](#:mattress_length) $\\times$ \n",
    "[`mattress_depth` in](#:mattress_depth)\n",
    "(and costs [`$(mattress_cost)`](#:mattress_cost))."
   ]
  },
  {
   "cell_type": "markdown",
   "metadata": {},
   "source": [
    "## Beams\n",
    "\n",
    "Most grid beam projects will use just one size of square lumber. We'll use [`beam_width`in](#:beam_width) $\\times$ [`beam_width`in](#:) lumber.\n",
    "For example, [`beam_vendor`](#:beam_vendor) sells lengths at [`$(beam_lf_price)` per linear foot](#:beam_lf_price)."
   ]
  },
  {
   "cell_type": "markdown",
   "metadata": {},
   "source": [
    "\n",
    "### Safety: Distance between Mattress and Sides \n",
    "To maximize reusability, all beams will be cut in [`beam_width`in](#:) increments. The nearest Grid Beamable-size is [`bed_width`in](#:) $\\times$ [`bed_length`in](#:).\n",
    "\n",
    "The CPSC [says](http://www.cpsc.gov/en/Safety-Education/Safety-Education-Centers/cribs/):\n",
    "> _Make sure there are no gaps larger than two fingers between the sides of the crib and the mattress._\n",
    "\n",
    "\n",
    "The maximum gap between the mattress and the sides of the crib is [`mattress_slat_gap` in](#:)."
   ]
  },
  {
   "cell_type": "markdown",
   "metadata": {},
   "source": [
    "Assuming \"two fingers\" is about [`max_mattress_slat_gap` in](#:), [`mattress_slat_gap > max_mattress_slat_gap`](#:if)\n",
    "**this is not safe**.\n",
    "[](#:else)\n",
    "this is safe.\n",
    "[](#:endif)\n"
   ]
  },
  {
   "cell_type": "code",
   "execution_count": 10,
   "metadata": {
    "collapsed": false
   },
   "outputs": [],
   "source": [
    "scad_render_to_file"
   ]
  },
  {
   "cell_type": "code",
   "execution_count": null,
   "metadata": {
    "collapsed": true
   },
   "outputs": [],
   "source": []
  }
 ],
 "metadata": {
  "kernelspec": {
   "display_name": "Python 3",
   "language": "python",
   "name": "python3"
  },
  "language_info": {
   "codemirror_mode": {
    "name": "ipython",
    "version": 3
   },
   "file_extension": ".py",
   "mimetype": "text/x-python",
   "name": "python",
   "nbconvert_exporter": "python",
   "pygments_lexer": "ipython3",
   "version": "3.4.2"
  }
 },
 "nbformat": 4,
 "nbformat_minor": 0
}
