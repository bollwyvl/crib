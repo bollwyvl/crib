{
 "cells": [
  {
   "cell_type": "markdown",
   "metadata": {},
   "source": [
    "<div class=\"alert alert-info\">\n",
    "\n",
    "<h1>This is the Backend</h1>\n",
    "<h2>[Jump down to Frontend](#Parametric-Grid-Beam-Crib)</h2>\n",
    "\n",
    "</div>"
   ]
  },
  {
   "cell_type": "code",
   "execution_count": 111,
   "metadata": {
    "collapsed": false
   },
   "outputs": [],
   "source": [
    "from ipytangle import tangle\n",
    "\n",
    "from solid import (\n",
    "    union,\n",
    "    translate,\n",
    "    cube,\n",
    "    difference,\n",
    "    cylinder,\n",
    "    scad_render_to_file,\n",
    "    scad_render,\n",
    "    use,\n",
    "    include,\n",
    "    color,\n",
    ")\n",
    "from solid.utils import (\n",
    "    right,\n",
    "    left,\n",
    "    up,\n",
    "    down,\n",
    "    bom_part,\n",
    "    bill_of_materials,\n",
    ")"
   ]
  },
  {
   "cell_type": "code",
   "execution_count": 112,
   "metadata": {
    "collapsed": false
   },
   "outputs": [],
   "source": [
    "import math\n",
    "\n",
    "from IPython.html.widgets import (\n",
    "    FloatSlider,\n",
    "    DOMWidget,\n",
    ")\n",
    "from IPython.utils.traitlets import (\n",
    "    link,\n",
    "    Float,\n",
    "    Unicode,\n",
    ")  \n",
    "from IPython.display import (\n",
    "    display,\n",
    "    Image\n",
    ")"
   ]
  },
  {
   "cell_type": "code",
   "execution_count": 113,
   "metadata": {
    "collapsed": true
   },
   "outputs": [],
   "source": [
    "def _mattress_slat_gap(mattress_length, bed_length, mattress_width, bed_width):\n",
    "    return math.sqrt(\n",
    "        (bed_length - mattress_length) ** 2 +\n",
    "        (bed_width - mattress_width) ** 2\n",
    "    )"
   ]
  },
  {
   "cell_type": "code",
   "execution_count": 114,
   "metadata": {
    "collapsed": false
   },
   "outputs": [],
   "source": [
    "crib = tangle(\n",
    "    mattress_vendor=[\"Ikea\"],\n",
    "    mattress_model=[\"VYSSA SLÖA\"],\n",
    "    mattress_width=27.5,\n",
    "    mattress_length=52.0,\n",
    "    mattress_depth=3.125,\n",
    "    mattress_cost=49.99,\n",
    "\n",
    "    beam_vendor=[\"Grid Beam Solutions\"],\n",
    "    beam_width=1.5,\n",
    "    beam_lf_price=3,\n",
    "    \n",
    "    bed_width=(27.5,\n",
    "        lambda mattress_width, beam_width: math.ceil(mattress_width / beam_width) * beam_width\n",
    "    ),\n",
    "\n",
    "    bed_length=(52.0,\n",
    "        lambda mattress_length, beam_width: math.ceil(mattress_length / beam_width) * beam_width \n",
    "    ),\n",
    "    \n",
    "    max_mattress_slat_gap=1.5,\n",
    "    mattress_slat_gap=(1.0, _mattress_slat_gap)\n",
    ")\n",
    "crib"
   ]
  },
  {
   "cell_type": "code",
   "execution_count": 130,
   "metadata": {
    "collapsed": false
   },
   "outputs": [],
   "source": [
    "include(\"MCAD/units.scad\")\n",
    "# inch to mm\n",
    "inch = 25.4\n",
    "\n",
    "class Crib(DOMWidget):\n",
    "    filename = Unicode(\"crib-8-post-gen.scad\")\n",
    "    \n",
    "    # above the mattress at its lowest\n",
    "    mattress_to_top = Float(26)\n",
    "    # space between slats\n",
    "    max_slat_slat_gap = Float(2 + (3.0/8.0))\n",
    "    # space between slats\n",
    "    max_slat_mattress_gap = Float(1)\n",
    "    \n",
    "    # some ikea model\n",
    "    mattress_width = Float(27.5)\n",
    "    mattress_length = Float(52)\n",
    "    mattress_depth = Float(3.125)\n",
    "    \n",
    "    beam_width = Float(1.5)\n",
    "    \n",
    "    beam_color = Unicode(\"BurlyWood\")\n",
    "    \n",
    "    def __init__(self, *args, **kwargs):\n",
    "        super(Crib, self).__init__(*args, **kwargs)\n",
    "        self.on_trait_change(self._on_change)\n",
    "    \n",
    "    def _on_change(self, name, old, new):\n",
    "        scad_render_to_file(\n",
    "            self.scad(),\n",
    "            self.filename\n",
    "        )\n",
    "    \n",
    "    def scad(self):\n",
    "        return union()(\n",
    "            self.gridbeam(20)\n",
    "        )\n",
    "    \n",
    "    def legs(self):\n",
    "        return union()(\n",
    "            \n",
    "        )\n",
    "    \n",
    "    @bom_part(\"Grid Beam\")\n",
    "    def gridbeam(self, length=1):\n",
    "        return zBeam(length)\n",
    "\n",
    "crib = Crib()\n",
    "crib.mattress_width = 28"
   ]
  },
  {
   "cell_type": "code",
   "execution_count": 166,
   "metadata": {
    "collapsed": false
   },
   "outputs": [],
   "source": [
    "import os\n",
    "import subprocess\n",
    "from tempfile import NamedTemporaryFile \n",
    "\n",
    "from solid import union\n",
    "\n",
    "\n",
    "class Scad(object):\n",
    "    GR = 1.61803398875\n",
    "\n",
    "    def __init__(self, debug=False, width=None, height=None):\n",
    "        self.debug = debug\n",
    "        self._root = union()\n",
    "        self.width = width or 1000\n",
    "        self.height = height or self.width / self.GR\n",
    "\n",
    "        \n",
    "    def __enter__(self, debug=False):\n",
    "        def _update(*scad_objects):\n",
    "            self._root = union()(self._root, *scad_objects)\n",
    "            \n",
    "            if self.debug:\n",
    "                print(scad_render(self._root).encode(\"utf-8\"))\n",
    "\n",
    "        return _update\n",
    "\n",
    "    def __exit__(self, type, value, traceback):\n",
    "        tmp = NamedTemporaryFile(suffix=\".scad\", delete=False)\n",
    "        tmp_png = tempfile.NamedTemporaryFile(suffix=\".png\", delete=False)\n",
    "        try:\n",
    "            scad_text = scad_render(self._root).encode(\"utf-8\")\n",
    "            tmp.write(scad_text)\n",
    "            tmp.close()\n",
    "            subprocess.Popen([\n",
    "                \"openscad\",\n",
    "                \"--preview\",\n",
    "                \"--imgsize={width},{height}\".format(**self.__dict__),\n",
    "                \"--viewall\",\n",
    "                \"--autocenter\",\n",
    "                \"--color-scheme=Nature\",\n",
    "                \"-o\", tmp_png.name,\n",
    "                tmp.name\n",
    "            ]).communicate()\n",
    "            display(Image(tmp_png.name))\n",
    "        finally:\n",
    "            os.unlink(tmp.name)\n",
    "            os.unlink(tmp_png.name)\n",
    "\n",
    "# with Scad() as see:\n",
    "#     see(xBeam(4))"
   ]
  },
  {
   "cell_type": "markdown",
   "metadata": {},
   "source": [
    "# Parametric Grid Beam Crib"
   ]
  },
  {
   "cell_type": "markdown",
   "metadata": {},
   "source": [
    "[Grid Beam](http://gridbeam.biz/) is a modular approach for building structures. It's made of sticks and bolts. Building a Grid Beam crib for your little person is a life-long gift: she can have personalized furniture, kid-powered vehicles, and toys made from the reconfigured pieces."
   ]
  },
  {
   "cell_type": "markdown",
   "metadata": {},
   "source": [
    "## Mattress\n",
    "\n",
    "The US Consumer Product Safety Commission (CPSC) [says](http://www.cpsc.gov/en/Business--Manufacturing/Business-Education/Business-Guidance/Full-Size-Baby-Cribs/):\n",
    "> _a mattress used in a full-size crib must be at least 27 1/4 inches x 51 1/4 inches, with a thickness not exceeding 6 inches_"
   ]
  },
  {
   "cell_type": "markdown",
   "metadata": {},
   "source": [
    "For example, [`mattress_vendor`](#:mattress_vendor)'s [`mattress_model`](#:mattress_model) is\n",
    "[`mattress_width` in](#:mattress_width) $\\times$ \n",
    "[`mattress_length` in](#:mattress_length) $\\times$ \n",
    "[`mattress_depth` in](#:mattress_depth)\n",
    "(and costs [`$(mattress_cost)`](#:mattress_cost))."
   ]
  },
  {
   "cell_type": "code",
   "execution_count": 167,
   "metadata": {
    "collapsed": false
   },
   "outputs": [
    {
     "data": {
      "image/png": "[encoded data removed]",
      "text/plain": [
       "<IPython.core.display.Image object>"
      ]
     },
     "metadata": {},
     "output_type": "display_data"
    }
   ],
   "source": [
    "with Scad() as see:\n",
    "    mattress = cube([dim * inch for dim in [\n",
    "        crib.mattress_width, crib.mattress_length, crib.mattress_depth\n",
    "    ]])\n",
    "    see(mattress)"
   ]
  },
  {
   "cell_type": "markdown",
   "metadata": {},
   "source": [
    "## Beams\n",
    "\n",
    "Most grid beam projects will use just one size of square lumber. We'll use [`beam_width`in](#:beam_width) $\\times$ [`beam_width`in](#:) lumber.\n",
    "For example, [`beam_vendor`](#:beam_vendor) sells lengths at [`$(beam_lf_price)` per linear foot](#:beam_lf_price).\n",
    "\n",
    "Grid Beam structures get their strength from _tri-joints_, or places where three sticks come together to form three right angles... or more/"
   ]
  },
  {
   "cell_type": "code",
   "execution_count": 168,
   "metadata": {
    "collapsed": false
   },
   "outputs": [
    {
     "data": {
      "image/png": "[encoded data removed]",
      "text/plain": [
       "<IPython.core.display.Image object>"
      ]
     },
     "metadata": {},
     "output_type": "display_data"
    }
   ],
   "source": [
    "with Scad() as see:\n",
    "    see(\n",
    "        translateBeam([1,1,-3])(zBeam(10)),\n",
    "        translateBeam([-1,0,-1])(xBeam(10)),\n",
    "        translateBeam([0,-1,0])(yBeam(10))\n",
    "    )"
   ]
  },
  {
   "cell_type": "markdown",
   "metadata": {},
   "source": [
    "\n",
    "### Safety: Distance between Mattress and Sides \n",
    "To maximize reusability, all beams will be cut in [`beam_width`in](#:) increments. The nearest Grid Beamable-size is [`bed_width`in](#:) $\\times$ [`bed_length`in](#:).\n",
    "\n",
    "The CPSC [says](http://www.cpsc.gov/en/Safety-Education/Safety-Education-Centers/cribs/):\n",
    "> _Make sure there are no gaps larger than two fingers between the sides of the crib and the mattress._\n",
    "\n",
    "\n",
    "The maximum gap between the mattress and the sides of the crib (at the corner) is [`mattress_slat_gap` in](#:)."
   ]
  },
  {
   "cell_type": "markdown",
   "metadata": {},
   "source": [
    "Assuming \"two fingers\" is about [`max_mattress_slat_gap` in](#:), [`mattress_slat_gap > max_mattress_slat_gap`](#:if)\n",
    "**this is not safe**.\n",
    "[](#:else)\n",
    "this is safe.\n",
    "[](#:endif)\n"
   ]
  }
 ],
 "metadata": {
  "kernelspec": {
   "display_name": "Python 3",
   "language": "python",
   "name": "python3"
  },
  "language_info": {
   "codemirror_mode": {
    "name": "ipython",
    "version": 3
   },
   "file_extension": ".py",
   "mimetype": "text/x-python",
   "name": "python",
   "nbconvert_exporter": "python",
   "pygments_lexer": "ipython3",
   "version": "3.4.2"
  }
 },
 "nbformat": 4,
 "nbformat_minor": 0
}
