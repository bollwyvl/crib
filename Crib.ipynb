{
 "cells": [
  {
   "cell_type": "code",
   "execution_count": 7,
   "metadata": {
    "collapsed": false
   },
   "outputs": [],
   "source": [
    "from solid import (\n",
    "    union,\n",
    "    translate,\n",
    "    cube,\n",
    "    difference,\n",
    "    cylinder,\n",
    "    scad_render_to_file,\n",
    "    CALLED_FRAMES,\n",
    "    CALLED_MODS,\n",
    "    use,\n",
    "    include,\n",
    ")\n",
    "from solid.utils import (\n",
    "    right,\n",
    ")"
   ]
  },
  {
   "cell_type": "code",
   "execution_count": 2,
   "metadata": {
    "collapsed": false
   },
   "outputs": [
    {
     "ename": "AttributeError",
     "evalue": "'NoneType' object has no attribute '__dict__'",
     "output_type": "error",
     "traceback": [
      "\u001b[1;31m---------------------------------------------------------------------------\u001b[0m",
      "\u001b[1;31mAttributeError\u001b[0m                            Traceback (most recent call last)",
      "\u001b[1;32m<ipython-input-2-81cbf78c12f1>\u001b[0m in \u001b[0;36m<module>\u001b[1;34m()\u001b[0m\n\u001b[1;32m----> 1\u001b[1;33m \u001b[0muse\u001b[0m\u001b[1;33m(\u001b[0m\u001b[1;34m\"MCAD/gridbeam.scad\"\u001b[0m\u001b[1;33m)\u001b[0m\u001b[1;33m\u001b[0m\u001b[0m\n\u001b[0m\u001b[0;32m      2\u001b[0m \u001b[0minclude\u001b[0m\u001b[1;33m(\u001b[0m\u001b[1;34m\"MCAD/units.scad\"\u001b[0m\u001b[1;33m)\u001b[0m\u001b[1;33m\u001b[0m\u001b[0m\n",
      "\u001b[1;32m/home/weg/.virtualenvs/crib/src/solidpython/solid/solidpython.py\u001b[0m in \u001b[0;36muse\u001b[1;34m(scad_file_path, use_not_include)\u001b[0m\n\u001b[0;32m    176\u001b[0m         \u001b[1;31m# to find the right module to add the new class to.\u001b[0m\u001b[1;33m\u001b[0m\u001b[1;33m\u001b[0m\u001b[0m\n\u001b[0;32m    177\u001b[0m         \u001b[0mstack_depth\u001b[0m \u001b[1;33m=\u001b[0m \u001b[1;36m2\u001b[0m \u001b[1;32mif\u001b[0m \u001b[0muse_not_include\u001b[0m \u001b[1;32melse\u001b[0m \u001b[1;36m3\u001b[0m\u001b[1;33m\u001b[0m\u001b[0m\n\u001b[1;32m--> 178\u001b[1;33m         \u001b[1;32mexec\u001b[0m\u001b[1;33m(\u001b[0m\u001b[0mclass_str\u001b[0m\u001b[1;33m,\u001b[0m \u001b[0mcalling_module\u001b[0m\u001b[1;33m(\u001b[0m \u001b[0mstack_depth\u001b[0m\u001b[1;33m)\u001b[0m\u001b[1;33m.\u001b[0m\u001b[0m__dict__\u001b[0m\u001b[1;33m)\u001b[0m\u001b[1;33m\u001b[0m\u001b[0m\n\u001b[0m\u001b[0;32m    179\u001b[0m \u001b[1;33m\u001b[0m\u001b[0m\n\u001b[0;32m    180\u001b[0m     \u001b[1;32mreturn\u001b[0m \u001b[0mTrue\u001b[0m\u001b[1;33m\u001b[0m\u001b[0m\n",
      "\u001b[1;31mAttributeError\u001b[0m: 'NoneType' object has no attribute '__dict__'"
     ]
    }
   ],
   "source": [
    "use(\"MCAD/gridbeam.scad\")\n",
    "include(\"MCAD/units.scad\")"
   ]
  },
  {
   "cell_type": "code",
   "execution_count": 2,
   "metadata": {
    "collapsed": false
   },
   "outputs": [
    {
     "ename": "IndexError",
     "evalue": "list index out of range",
     "output_type": "error",
     "traceback": [
      "\u001b[1;31m---------------------------------------------------------------------------\u001b[0m",
      "\u001b[1;31mIndexError\u001b[0m                                Traceback (most recent call last)",
      "\u001b[1;32m<ipython-input-2-5eb3bc3cdd16>\u001b[0m in \u001b[0;36m<module>\u001b[1;34m()\u001b[0m\n\u001b[1;32m----> 1\u001b[1;33m \u001b[0mCALLED_FRAMES\u001b[0m\u001b[1;33m[\u001b[0m\u001b[1;36m0\u001b[0m\u001b[1;33m]\u001b[0m\u001b[1;33m[\u001b[0m\u001b[1;36m0\u001b[0m\u001b[1;33m]\u001b[0m\u001b[1;33m\u001b[0m\u001b[0m\n\u001b[0m",
      "\u001b[1;31mIndexError\u001b[0m: list index out of range"
     ]
    }
   ],
   "source": [
    "CALLED_FRAMES[0][0]"
   ]
  },
  {
   "cell_type": "code",
   "execution_count": 3,
   "metadata": {
    "collapsed": false
   },
   "outputs": [],
   "source": [
    "def basic_geometry():\n",
    "    # SolidPython code can look a lot like OpenSCAD code.  It also has \n",
    "    # some syntactic sugar built in that can make it look more pythonic.\n",
    "    # Here are two identical pieces of geometry, one left and one right.\n",
    "    \n",
    "    # left_piece uses standard OpenSCAD grammar (note the commas between \n",
    "    # block elements; OpenSCAD doesn't require this)\n",
    "    left_piece =  union()(\n",
    "                        translate( [-15, 0, 0])(\n",
    "                            cube( [10, 5, 3], center=True)\n",
    "                        ),\n",
    "                        translate( [-10, 0, 0])(\n",
    "                            difference()(\n",
    "                                cylinder( r=5, h=15, center=True),\n",
    "                                cylinder( r=4, h=16, center=True)\n",
    "                            )\n",
    "                        )\n",
    "                    )\n",
    "    \n",
    "    # Right piece uses a more Pythonic grammar.  + (plus) is equivalent to union(), \n",
    "    # - (minus) is equivalent to difference() and * (star) is equivalent to intersection\n",
    "    # solid.utils also defines up(), down(), left(), right(), forward(), and back()\n",
    "    # for common transforms.\n",
    "    right_piece = right( 15)( cube([10, 5, 3], center=True))\n",
    "    cyl =  cylinder( r=5, h=15, center=True)  - cylinder( r=4, h=16, center=True) \n",
    "    right_piece += right(10)( cyl)\n",
    "                        \n",
    "    return union()(left_piece, right_piece)"
   ]
  },
  {
   "cell_type": "code",
   "execution_count": 4,
   "metadata": {
    "collapsed": false
   },
   "outputs": [],
   "source": [
    "scad_render_to_file(\n",
    "    basic_geometry(),\n",
    "    \"test.scad\"\n",
    ")"
   ]
  },
  {
   "cell_type": "code",
   "execution_count": 5,
   "metadata": {
    "collapsed": false
   },
   "outputs": [
    {
     "data": {
      "text/plain": [
       "[(<frame at 0x7f0e555bb7f0>,\n",
       "  '<ipython-input-4-4f7b421ac293>',\n",
       "  3,\n",
       "  '<module>',\n",
       "  [u'    \"test.scad\"\\n'],\n",
       "  0)]"
      ]
     },
     "execution_count": 5,
     "metadata": {},
     "output_type": "execute_result"
    }
   ],
   "source": [
    "CALLED_FRAMES"
   ]
  },
  {
   "cell_type": "code",
   "execution_count": 8,
   "metadata": {
    "collapsed": false
   },
   "outputs": [
    {
     "data": {
      "text/plain": [
       "[None]"
      ]
     },
     "execution_count": 8,
     "metadata": {},
     "output_type": "execute_result"
    }
   ],
   "source": [
    "CALLED_MODS"
   ]
  },
  {
   "cell_type": "code",
   "execution_count": 3,
   "metadata": {
    "collapsed": false
   },
   "outputs": [
    {
     "data": {
      "text/plain": [
       "2.1213203435596424"
      ]
     },
     "execution_count": 3,
     "metadata": {},
     "output_type": "execute_result"
    }
   ],
   "source": [
    "import math\n",
    "math.sqrt((1.5 * 1.5) * 2)"
   ]
  },
  {
   "cell_type": "code",
   "execution_count": 4,
   "metadata": {
    "collapsed": false
   },
   "outputs": [
    {
     "data": {
      "text/plain": [
       "2.375"
      ]
     },
     "execution_count": 4,
     "metadata": {},
     "output_type": "execute_result"
    }
   ],
   "source": [
    "2 + (3.0/8)"
   ]
  },
  {
   "cell_type": "code",
   "execution_count": 7,
   "metadata": {
    "collapsed": false
   },
   "outputs": [
    {
     "data": {
      "text/plain": [
       "28.5"
      ]
     },
     "execution_count": 7,
     "metadata": {},
     "output_type": "execute_result"
    }
   ],
   "source": [
    "math.ceil(27.5 / 1.5) * 1.5"
   ]
  },
  {
   "cell_type": "code",
   "execution_count": null,
   "metadata": {
    "collapsed": true
   },
   "outputs": [],
   "source": []
  }
 ],
 "metadata": {
  "kernelspec": {
   "display_name": "Python 2",
   "language": "python",
   "name": "python2"
  },
  "language_info": {
   "codemirror_mode": {
    "name": "ipython",
    "version": 2
   },
   "file_extension": ".py",
   "mimetype": "text/x-python",
   "name": "python",
   "nbconvert_exporter": "python",
   "pygments_lexer": "ipython2",
   "version": "2.7.8"
  }
 },
 "nbformat": 4,
 "nbformat_minor": 0
}
